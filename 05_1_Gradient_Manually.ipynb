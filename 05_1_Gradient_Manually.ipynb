{
  "nbformat": 4,
  "nbformat_minor": 0,
  "metadata": {
    "colab": {
      "provenance": [],
      "authorship_tag": "ABX9TyN4QpduQ8ekaFl0H9Tlo/zs",
      "include_colab_link": true
    },
    "kernelspec": {
      "name": "python3",
      "display_name": "Python 3"
    },
    "language_info": {
      "name": "python"
    }
  },
  "cells": [
    {
      "cell_type": "markdown",
      "metadata": {
        "id": "view-in-github",
        "colab_type": "text"
      },
      "source": [
        "<a href=\"https://colab.research.google.com/github/Roghiehghahremani/Deep-Learning-With-PyTorch---Full-Course_Patrick-Loeber/blob/main/05_1_Gradient_Manually.ipynb\" target=\"_parent\"><img src=\"https://colab.research.google.com/assets/colab-badge.svg\" alt=\"Open In Colab\"/></a>"
      ]
    },
    {
      "cell_type": "code",
      "execution_count": 5,
      "metadata": {
        "id": "dHG_KB9yhQCR"
      },
      "outputs": [],
      "source": [
        "import numpy as np\n"
      ]
    },
    {
      "cell_type": "code",
      "source": [
        "# f = w*x\n",
        "\n",
        "# f = 2*x\n",
        "X = np.array([1,2,3,4],dtype =np.float32)\n",
        "Y = np.array([2,4,6,8],dtype =np.float32)\n",
        "\n",
        "w = 0.0\n",
        "#model prediction\n",
        "def forward(x):\n",
        "  return w*x\n",
        "#loss\n",
        "def loss(y_predicted,y):\n",
        "  return ((y_predicted-y)**2).mean()\n",
        "\n",
        "#gradient\n",
        "# MSE = 1/N*(w*x-y)**@\n",
        "#dloss/dw =1/N 2x (w*x-y)\n",
        "def gradient(x,y,y_predicted):\n",
        "  return np.dot(2*x,y_predicted-y).mean()\n",
        "\n",
        "print(f'prediction before training:f(5) = {forward(5):.3f}')\n",
        "\n",
        "#training\n",
        "\n",
        "learning_rate = 0.01\n",
        "n_iters = 10\n",
        "\n",
        "for epoch in range(n_iters):\n",
        "  #prediction in forward pass\n",
        "  y_pred = forward(X)\n",
        "\n",
        "  #loss\n",
        "\n",
        "  l =loss(y_pred,Y)\n",
        "\n",
        "  #gredients\n",
        "  dw = gradient(X,Y,y_pred)\n",
        "\n",
        "  #update wights\n",
        "\n",
        "  w-=learning_rate*dw\n",
        "\n",
        "  if epoch % 1 == 0:\n",
        "    print(f'epoch : {epoch} and loss = {l:.3f}')\n",
        "print(f'prediction after training:f(5) = {forward(5):.3f}')"
      ],
      "metadata": {
        "colab": {
          "base_uri": "https://localhost:8080/"
        },
        "id": "R4RCdT2phypo",
        "outputId": "5592ca25-54ce-493a-863d-8bd37d207b86"
      },
      "execution_count": 9,
      "outputs": [
        {
          "output_type": "stream",
          "name": "stdout",
          "text": [
            "prediction before training:f(5) = 0.000\n",
            "epoch : 0 and loss = 30.000\n",
            "epoch : 1 and loss = 4.800\n",
            "epoch : 2 and loss = 0.768\n",
            "epoch : 3 and loss = 0.123\n",
            "epoch : 4 and loss = 0.020\n",
            "epoch : 5 and loss = 0.003\n",
            "epoch : 6 and loss = 0.001\n",
            "epoch : 7 and loss = 0.000\n",
            "epoch : 8 and loss = 0.000\n",
            "epoch : 9 and loss = 0.000\n",
            "prediction after training:f(5) = 9.999\n"
          ]
        }
      ]
    },
    {
      "cell_type": "code",
      "source": [],
      "metadata": {
        "id": "eGhmLdOnj7nw"
      },
      "execution_count": null,
      "outputs": []
    }
  ]
}