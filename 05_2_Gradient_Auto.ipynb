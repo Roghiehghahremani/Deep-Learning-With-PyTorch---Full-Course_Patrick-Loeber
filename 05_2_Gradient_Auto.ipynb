{
  "nbformat": 4,
  "nbformat_minor": 0,
  "metadata": {
    "colab": {
      "provenance": [],
      "authorship_tag": "ABX9TyPdpa3qP6iVBBZaAa8JH0nF",
      "include_colab_link": true
    },
    "kernelspec": {
      "name": "python3",
      "display_name": "Python 3"
    },
    "language_info": {
      "name": "python"
    }
  },
  "cells": [
    {
      "cell_type": "markdown",
      "metadata": {
        "id": "view-in-github",
        "colab_type": "text"
      },
      "source": [
        "<a href=\"https://colab.research.google.com/github/Roghiehghahremani/Deep-Learning-With-PyTorch---Full-Course_Patrick-Loeber/blob/main/05_2_Gradient_Auto.ipynb\" target=\"_parent\"><img src=\"https://colab.research.google.com/assets/colab-badge.svg\" alt=\"Open In Colab\"/></a>"
      ]
    },
    {
      "cell_type": "code",
      "execution_count": 1,
      "metadata": {
        "id": "e3_pgFmMlh9x"
      },
      "outputs": [],
      "source": [
        "import torch"
      ]
    },
    {
      "cell_type": "code",
      "source": [],
      "metadata": {
        "id": "ivIqas_klupJ"
      },
      "execution_count": null,
      "outputs": []
    },
    {
      "cell_type": "code",
      "source": [
        "# f = w*x\n",
        "\n",
        "# f = 2*x\n",
        "X = torch.tensor([1,2,3,4],dtype =torch.float32)\n",
        "Y = torch.tensor([2,4,6,8],dtype =torch.float32)\n",
        "\n",
        "w = torch.tensor(0.0,dtype=torch.float32,requires_grad=True)\n",
        "\n",
        "#model prediction\n",
        "def forward(x):\n",
        "  return w*x\n",
        "#loss\n",
        "def loss(y_predicted,y):\n",
        "  return ((y_predicted-y)**2).mean()\n",
        "\n",
        "\n",
        "print(f'prediction before training:f(5) = {forward(5):.3f}')\n",
        "\n",
        "#training\n",
        "\n",
        "learning_rate = 0.01\n",
        "n_iters = 100\n",
        "for epoch in range(n_iters):\n",
        "  #prediction in forward pass\n",
        "  y_pred = forward(X)\n",
        "\n",
        "  #loss\n",
        "\n",
        "  l =loss(y_pred,Y)\n",
        "\n",
        "  #gredients\n",
        "  l.backward() #dl/dw\n",
        "\n",
        "  #update wights\n",
        "  with torch.no_grad():\n",
        "      w-=learning_rate*w.grad\n",
        "  #zero gradients\n",
        "  w.grad.zero_()\n",
        "  if epoch % 10 == 0:\n",
        "    print(f'weight : {w:.3f} and loss = {l:.3f}')\n",
        "print(f'prediction after training:f(5) = {forward(5):.3f}')"
      ],
      "metadata": {
        "colab": {
          "base_uri": "https://localhost:8080/"
        },
        "id": "R4RCdT2phypo",
        "outputId": "3748f285-e819-4a0a-ce12-df0558ac9b08"
      },
      "execution_count": 11,
      "outputs": [
        {
          "output_type": "stream",
          "name": "stdout",
          "text": [
            "prediction before training:f(5) = 0.000\n",
            "weight : 0.300 and loss = 30.000\n",
            "weight : 1.665 and loss = 1.163\n",
            "weight : 1.934 and loss = 0.045\n",
            "weight : 1.987 and loss = 0.002\n",
            "weight : 1.997 and loss = 0.000\n",
            "weight : 1.999 and loss = 0.000\n",
            "weight : 2.000 and loss = 0.000\n",
            "weight : 2.000 and loss = 0.000\n",
            "weight : 2.000 and loss = 0.000\n",
            "weight : 2.000 and loss = 0.000\n",
            "prediction after training:f(5) = 10.000\n"
          ]
        }
      ]
    },
    {
      "cell_type": "code",
      "source": [],
      "metadata": {
        "id": "mzxheQr9m_Ik"
      },
      "execution_count": null,
      "outputs": []
    }
  ]
}