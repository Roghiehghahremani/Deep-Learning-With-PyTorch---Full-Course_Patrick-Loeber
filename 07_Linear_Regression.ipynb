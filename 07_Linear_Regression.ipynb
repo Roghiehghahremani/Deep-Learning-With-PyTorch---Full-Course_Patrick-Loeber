{
  "nbformat": 4,
  "nbformat_minor": 0,
  "metadata": {
    "colab": {
      "provenance": [],
      "authorship_tag": "ABX9TyNkhXYBsLi2R3f1uOKlUikL",
      "include_colab_link": true
    },
    "kernelspec": {
      "name": "python3",
      "display_name": "Python 3"
    },
    "language_info": {
      "name": "python"
    }
  },
  "cells": [
    {
      "cell_type": "markdown",
      "metadata": {
        "id": "view-in-github",
        "colab_type": "text"
      },
      "source": [
        "<a href=\"https://colab.research.google.com/github/Roghiehghahremani/Deep-Learning-With-PyTorch---Full-Course_Patrick-Loeber/blob/main/07_Linear_Regression.ipynb\" target=\"_parent\"><img src=\"https://colab.research.google.com/assets/colab-badge.svg\" alt=\"Open In Colab\"/></a>"
      ]
    },
    {
      "cell_type": "markdown",
      "source": [
        "1- Design model\n",
        "2- Constract loss and optimizer\n",
        "3- Training loop\n",
        "  a- forward pass\n",
        "  b- backward pass\n",
        "  c- update weights"
      ],
      "metadata": {
        "id": "-t4RpNNFVPyk"
      }
    },
    {
      "cell_type": "code",
      "execution_count": 28,
      "metadata": {
        "id": "lnnZ8m76UIuz"
      },
      "outputs": [],
      "source": [
        "import torch\n",
        "import torch.nn as nn\n",
        "import numpy as np\n",
        "from sklearn import datasets\n",
        "import matplotlib.pyplot as plt"
      ]
    },
    {
      "cell_type": "code",
      "source": [
        "# 0- prepare data\n",
        "\n",
        "X_numpy,y_numpy = datasets.make_regression(n_samples=100, n_features=1, noise=20, random_state=1)\n",
        "\n",
        "X = torch.from_numpy(X_numpy.astype(np.float32))\n",
        "y = torch.from_numpy(y_numpy.astype(np.float32))\n",
        "y = y.view(-1,1)\n",
        "\n",
        "n_samples,n_features = X.shape\n",
        "# 1- Design the model\n",
        "# 2- loss and optimizer\n",
        "# 3- Training loop\n"
      ],
      "metadata": {
        "id": "nXtkn9EcV9nl"
      },
      "execution_count": 29,
      "outputs": []
    },
    {
      "cell_type": "code",
      "source": [
        "# 1- Design the model\n",
        "\n",
        "input_size = n_features\n",
        "output_size = 1\n",
        "\n",
        "model = nn.Linear(input_size,output_size)"
      ],
      "metadata": {
        "id": "8XI8mdkkXKKw"
      },
      "execution_count": 30,
      "outputs": []
    },
    {
      "cell_type": "code",
      "source": [
        "# 2- loss and optimizer\n",
        "\n",
        "criterion = nn.MSELoss()\n",
        "learning_rate = 0.01\n",
        "optimizer = torch.optim.SGD(model.parameters(),lr = learning_rate)"
      ],
      "metadata": {
        "id": "JNBkmXcuXlqR"
      },
      "execution_count": 31,
      "outputs": []
    },
    {
      "cell_type": "code",
      "source": [
        "# 3- Training loop\n",
        "num_epochs = 1000\n",
        "for epoch in range(num_epochs):\n",
        "  # forward pass and loss\n",
        "  y_predicted = model(X)\n",
        "  loss = criterion(y_predicted,y)\n",
        "  #backward loss\n",
        "  loss.backward()\n",
        "  #update\n",
        "  optimizer.step()\n",
        "  optimizer.zero_grad()\n",
        "\n",
        "  if (epoch % 10 ==0):\n",
        "    print(f'epoch: {epoch} and loss: {loss.item():.4f}')"
      ],
      "metadata": {
        "colab": {
          "base_uri": "https://localhost:8080/"
        },
        "id": "VF9uPzQxZ_1V",
        "outputId": "902d8d37-a53f-4ea2-d606-f95c4ae28130"
      },
      "execution_count": 32,
      "outputs": [
        {
          "output_type": "stream",
          "name": "stdout",
          "text": [
            "epoch: 0 and loss: 5630.2388\n",
            "epoch: 10 and loss: 4171.4238\n",
            "epoch: 20 and loss: 3116.9841\n",
            "epoch: 30 and loss: 2353.9585\n",
            "epoch: 40 and loss: 1801.2247\n",
            "epoch: 50 and loss: 1400.4330\n",
            "epoch: 60 and loss: 1109.5519\n",
            "epoch: 70 and loss: 898.2637\n",
            "epoch: 80 and loss: 744.6710\n",
            "epoch: 90 and loss: 632.9402\n",
            "epoch: 100 and loss: 551.6088\n",
            "epoch: 110 and loss: 492.3704\n",
            "epoch: 120 and loss: 449.1999\n",
            "epoch: 130 and loss: 417.7235\n",
            "epoch: 140 and loss: 394.7628\n",
            "epoch: 150 and loss: 378.0070\n",
            "epoch: 160 and loss: 365.7748\n",
            "epoch: 170 and loss: 356.8416\n",
            "epoch: 180 and loss: 350.3156\n",
            "epoch: 190 and loss: 345.5468\n",
            "epoch: 200 and loss: 342.0612\n",
            "epoch: 210 and loss: 339.5130\n",
            "epoch: 220 and loss: 337.6494\n",
            "epoch: 230 and loss: 336.2866\n",
            "epoch: 240 and loss: 335.2895\n",
            "epoch: 250 and loss: 334.5599\n",
            "epoch: 260 and loss: 334.0261\n",
            "epoch: 270 and loss: 333.6354\n",
            "epoch: 280 and loss: 333.3494\n",
            "epoch: 290 and loss: 333.1401\n",
            "epoch: 300 and loss: 332.9868\n",
            "epoch: 310 and loss: 332.8746\n",
            "epoch: 320 and loss: 332.7924\n",
            "epoch: 330 and loss: 332.7323\n",
            "epoch: 340 and loss: 332.6882\n",
            "epoch: 350 and loss: 332.6559\n",
            "epoch: 360 and loss: 332.6323\n",
            "epoch: 370 and loss: 332.6150\n",
            "epoch: 380 and loss: 332.6023\n",
            "epoch: 390 and loss: 332.5930\n",
            "epoch: 400 and loss: 332.5862\n",
            "epoch: 410 and loss: 332.5812\n",
            "epoch: 420 and loss: 332.5776\n",
            "epoch: 430 and loss: 332.5749\n",
            "epoch: 440 and loss: 332.5729\n",
            "epoch: 450 and loss: 332.5715\n",
            "epoch: 460 and loss: 332.5704\n",
            "epoch: 470 and loss: 332.5697\n",
            "epoch: 480 and loss: 332.5692\n",
            "epoch: 490 and loss: 332.5687\n",
            "epoch: 500 and loss: 332.5684\n",
            "epoch: 510 and loss: 332.5682\n",
            "epoch: 520 and loss: 332.5680\n",
            "epoch: 530 and loss: 332.5679\n",
            "epoch: 540 and loss: 332.5678\n",
            "epoch: 550 and loss: 332.5677\n",
            "epoch: 560 and loss: 332.5677\n",
            "epoch: 570 and loss: 332.5677\n",
            "epoch: 580 and loss: 332.5677\n",
            "epoch: 590 and loss: 332.5676\n",
            "epoch: 600 and loss: 332.5676\n",
            "epoch: 610 and loss: 332.5676\n",
            "epoch: 620 and loss: 332.5676\n",
            "epoch: 630 and loss: 332.5676\n",
            "epoch: 640 and loss: 332.5676\n",
            "epoch: 650 and loss: 332.5676\n",
            "epoch: 660 and loss: 332.5676\n",
            "epoch: 670 and loss: 332.5676\n",
            "epoch: 680 and loss: 332.5676\n",
            "epoch: 690 and loss: 332.5675\n",
            "epoch: 700 and loss: 332.5676\n",
            "epoch: 710 and loss: 332.5676\n",
            "epoch: 720 and loss: 332.5676\n",
            "epoch: 730 and loss: 332.5676\n",
            "epoch: 740 and loss: 332.5675\n",
            "epoch: 750 and loss: 332.5676\n",
            "epoch: 760 and loss: 332.5675\n",
            "epoch: 770 and loss: 332.5676\n",
            "epoch: 780 and loss: 332.5676\n",
            "epoch: 790 and loss: 332.5676\n",
            "epoch: 800 and loss: 332.5676\n",
            "epoch: 810 and loss: 332.5676\n",
            "epoch: 820 and loss: 332.5676\n",
            "epoch: 830 and loss: 332.5676\n",
            "epoch: 840 and loss: 332.5676\n",
            "epoch: 850 and loss: 332.5676\n",
            "epoch: 860 and loss: 332.5676\n",
            "epoch: 870 and loss: 332.5676\n",
            "epoch: 880 and loss: 332.5676\n",
            "epoch: 890 and loss: 332.5676\n",
            "epoch: 900 and loss: 332.5676\n",
            "epoch: 910 and loss: 332.5676\n",
            "epoch: 920 and loss: 332.5676\n",
            "epoch: 930 and loss: 332.5676\n",
            "epoch: 940 and loss: 332.5676\n",
            "epoch: 950 and loss: 332.5676\n",
            "epoch: 960 and loss: 332.5676\n",
            "epoch: 970 and loss: 332.5676\n",
            "epoch: 980 and loss: 332.5676\n",
            "epoch: 990 and loss: 332.5676\n"
          ]
        }
      ]
    },
    {
      "cell_type": "code",
      "source": [
        "#plot\n",
        "\n",
        "predicted = model(X).detach().numpy()\n",
        "\n",
        "plt.plot(X_numpy,y_numpy,'r.')\n",
        "plt.plot(X_numpy,predicted,'b')\n",
        "plt.show()\n"
      ],
      "metadata": {
        "colab": {
          "base_uri": "https://localhost:8080/",
          "height": 432
        },
        "id": "dNUgXg50cVmi",
        "outputId": "ee239c7c-8fc2-424b-fe8d-59bfc837972e"
      },
      "execution_count": 33,
      "outputs": [
        {
          "output_type": "display_data",
          "data": {
            "text/plain": [
              "<Figure size 640x480 with 1 Axes>"
            ],
            "image/png": "[encoded data removed]"
          },
          "metadata": {}
        }
      ]
    },
    {
      "cell_type": "code",
      "source": [],
      "metadata": {
        "id": "pmB6DFmwdTw0"
      },
      "execution_count": 33,
      "outputs": []
    }
  ]
}