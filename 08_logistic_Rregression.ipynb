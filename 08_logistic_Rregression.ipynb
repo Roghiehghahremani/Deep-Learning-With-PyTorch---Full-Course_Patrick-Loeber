{
  "nbformat": 4,
  "nbformat_minor": 0,
  "metadata": {
    "colab": {
      "provenance": [],
      "authorship_tag": "ABX9TyOWlPD/Omwe1bOA58wBrjav",
      "include_colab_link": true
    },
    "kernelspec": {
      "name": "python3",
      "display_name": "Python 3"
    },
    "language_info": {
      "name": "python"
    }
  },
  "cells": [
    {
      "cell_type": "markdown",
      "metadata": {
        "id": "view-in-github",
        "colab_type": "text"
      },
      "source": [
        "<a href=\"https://colab.research.google.com/github/Roghiehghahremani/Deep-Learning-With-PyTorch---Full-Course_Patrick-Loeber/blob/main/08_logistic_Rregression.ipynb\" target=\"_parent\"><img src=\"https://colab.research.google.com/assets/colab-badge.svg\" alt=\"Open In Colab\"/></a>"
      ]
    },
    {
      "cell_type": "code",
      "execution_count": 8,
      "metadata": {
        "id": "AGLlwlPSO-DW"
      },
      "outputs": [],
      "source": [
        "import torch\n",
        "import torch.nn as nn\n",
        "import numpy as np\n",
        "from sklearn import datasets\n",
        "from sklearn.preprocessing import StandardScaler\n",
        "from sklearn.model_selection import train_test_split"
      ]
    },
    {
      "cell_type": "code",
      "source": [
        "# 0 - prepare the dataset\n",
        "bc = datasets.load_breast_cancer()\n",
        "X,y = bc.data, bc.target\n",
        "n_samples,n_features = X.shape\n",
        "print(n_samples)\n",
        "print(n_features)\n",
        "\n",
        "X_train,X_test,y_train,y_test = train_test_split(X,y,test_size=0.2,random_state=1234)\n",
        "\n",
        "sc = StandardScaler()\n",
        "\n",
        "X_train = sc.fit_transform(X_train)\n",
        "X_test = sc.fit_transform(X_test)\n",
        "\n",
        "X_train = torch.from_numpy(X_train.astype(np.float32))\n",
        "X_test = torch.from_numpy(X_test.astype(np.float32))\n",
        "y_train = torch.from_numpy(y_train.astype(np.float32))\n",
        "y_test = torch.from_numpy(y_test.astype(np.float32))\n",
        "\n",
        "y_train = y_train.view(-1,1)\n",
        "y_test  = y_test.view(-1,1)"
      ],
      "metadata": {
        "colab": {
          "base_uri": "https://localhost:8080/"
        },
        "id": "2WAhlkmaQJxS",
        "outputId": "a6b63f64-ef85-42d4-b643-4b436b95241f"
      },
      "execution_count": 23,
      "outputs": [
        {
          "output_type": "stream",
          "name": "stdout",
          "text": [
            "569\n",
            "30\n",
            "torch.Size([114, 1])\n"
          ]
        }
      ]
    },
    {
      "cell_type": "code",
      "source": [
        "# 1- Design the model\n",
        "# f = w*x + b, sigmoid function at the end\n",
        "\n",
        "class LogisticRegression(nn.Module):\n",
        "\n",
        "  def __init__(self,n_input_features):\n",
        "     super(LogisticRegression,self).__init__()\n",
        "     self.linear = nn.Linear(n_input_features,1)\n",
        "\n",
        "  def forward(self,x):\n",
        "    y_predicted = torch.sigmoid(self.linear(x))\n",
        "    return y_predicted\n",
        "model =LogisticRegression(n_features)"
      ],
      "metadata": {
        "id": "tTpvmCqOPVdD"
      },
      "execution_count": 26,
      "outputs": []
    },
    {
      "cell_type": "code",
      "source": [
        "# 2- Loss and optimizer\n",
        "learning_rate = 0.01\n",
        "\n",
        "criterion = nn.BCELoss()\n",
        "optimizer = torch.optim.SGD(model.parameters(),lr = learning_rate)"
      ],
      "metadata": {
        "id": "sGNfD6bRQEh5"
      },
      "execution_count": 27,
      "outputs": []
    },
    {
      "cell_type": "code",
      "source": [
        "# training loop\n",
        "num_epochs = 100\n",
        "\n",
        "for epoch in range(num_epochs):\n",
        "  # forward pass and loss\n",
        "  y_predicted = model(X_train)\n",
        "  loss = criterion(y_predicted,y_train)\n",
        "  # backward pass\n",
        "  loss.backward()\n",
        "  # update weights\n",
        "  optimizer.step()\n",
        "  # zero the gridents\n",
        "  optimizer.zero_grad()\n",
        "\n",
        "  if (epoch % 10 == 0):\n",
        "    print(f'epoch :{epoch} loss = {loss:.3f}')\n",
        "with torch.no_grad():\n",
        "  y_predicted = model(X_test)\n",
        "  y_predicted_cls = y_predicted.round()\n",
        "  acc = y_predicted_cls.eq(y_test).sum() / float(X_test.shape[0])\n",
        "  print(f'accuracy = {acc.item():.3f}')\n"
      ],
      "metadata": {
        "colab": {
          "base_uri": "https://localhost:8080/"
        },
        "id": "KjqsnJ0CXmuj",
        "outputId": "8e021f3d-07b7-4c98-9fa4-bee19aa1ccc6"
      },
      "execution_count": 39,
      "outputs": [
        {
          "output_type": "stream",
          "name": "stdout",
          "text": [
            "epoch :0 loss = 0.108\n",
            "epoch :10 loss = 0.107\n",
            "epoch :20 loss = 0.106\n",
            "epoch :30 loss = 0.105\n",
            "epoch :40 loss = 0.105\n",
            "epoch :50 loss = 0.104\n",
            "epoch :60 loss = 0.103\n",
            "epoch :70 loss = 0.103\n",
            "epoch :80 loss = 0.102\n",
            "epoch :90 loss = 0.102\n",
            "accuracy = 0.939\n"
          ]
        }
      ]
    },
    {
      "cell_type": "code",
      "source": [],
      "metadata": {
        "id": "qNP1iD3gYBgP"
      },
      "execution_count": null,
      "outputs": []
    }
  ]
}