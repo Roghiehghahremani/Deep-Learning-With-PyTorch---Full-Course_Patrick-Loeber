{
  "nbformat": 4,
  "nbformat_minor": 0,
  "metadata": {
    "colab": {
      "provenance": [],
      "authorship_tag": "ABX9TyPfkbhWPaqUl7k/JVQ5Q3F0",
      "include_colab_link": true
    },
    "kernelspec": {
      "name": "python3",
      "display_name": "Python 3"
    },
    "language_info": {
      "name": "python"
    }
  },
  "cells": [
    {
      "cell_type": "markdown",
      "metadata": {
        "id": "view-in-github",
        "colab_type": "text"
      },
      "source": [
        "<a href=\"https://colab.research.google.com/github/Roghiehghahremani/Deep-Learning-With-PyTorch---Full-Course_Patrick-Loeber/blob/main/09_Dataset_Dataloader.ipynb\" target=\"_parent\"><img src=\"https://colab.research.google.com/assets/colab-badge.svg\" alt=\"Open In Colab\"/></a>"
      ]
    },
    {
      "cell_type": "code",
      "execution_count": 50,
      "metadata": {
        "id": "hFwJFixkd5uz"
      },
      "outputs": [],
      "source": [
        "# epoch = 1 forward and backward pass of all training samples\n",
        "# batch_size = the number of training samples in one farward and backward pass\n",
        "# number of iterations = number of passes, each pass using [batch_size] number of samples\n",
        "# e.g 100 samples, batch_size = 20 --> 100/20 = 5 iterations for 1 epoch"
      ]
    },
    {
      "cell_type": "code",
      "source": [
        "import torch\n",
        "import torchvision\n",
        "from torch.utils.data import Dataset, DataLoader\n",
        "import numpy as np\n",
        "import math"
      ],
      "metadata": {
        "id": "s9bIXtqAfcpW"
      },
      "execution_count": 51,
      "outputs": []
    },
    {
      "cell_type": "code",
      "source": [
        "# Load the Drive helper and mount\n",
        "from google.colab import drive\n",
        "drive.mount('/content/drive/')\n",
        "%cd /content/drive/MyDrive"
      ],
      "metadata": {
        "colab": {
          "base_uri": "https://localhost:8080/"
        },
        "id": "l0vGu1hRhfHV",
        "outputId": "d8969c76-01a4-49ff-d26a-392d37aee34d"
      },
      "execution_count": 52,
      "outputs": [
        {
          "output_type": "stream",
          "name": "stdout",
          "text": [
            "Drive already mounted at /content/drive/; to attempt to forcibly remount, call drive.mount(\"/content/drive/\", force_remount=True).\n",
            "/content/drive/MyDrive\n"
          ]
        }
      ]
    },
    {
      "cell_type": "code",
      "source": [
        "class WineDataset(Dataset):\n",
        "  def __init__(self):\n",
        "    # Data loading\n",
        "    xy = np.loadtxt('wine.csv', delimiter=\",\", dtype=np.float32,skiprows=1 )\n",
        "    self.x = torch.from_numpy(xy[:,1:])\n",
        "    self.y = torch.from_numpy(xy[:,[0]]) # n_samples, 1\n",
        "    self.n_samples = xy.shape[0]\n",
        "  def __getitem__(self,index):\n",
        "    # dataset[0]\n",
        "    return self.x[index],self.y[index]\n",
        "  def __len__(self):\n",
        "    #len(dataset)\n",
        "    return self.n_samples\n",
        "\n",
        "dataset = WineDataset()\n",
        "\n",
        "dataloader = DataLoader(dataset=dataset,batch_size=4,shuffle=True,num_workers=2)\n",
        "\n",
        "#dataiter = iter(dataloader)\n",
        "#data = next(dataiter)\n",
        "\n",
        "#features,labels = data\n",
        "\n",
        "#print(features,labels)\n",
        "\n",
        "# Training loop\n",
        "\n",
        "num_epochs = 2\n",
        "\n",
        "total_samples = len(dataset)\n",
        "\n",
        "n_iterations = math.ceil(total_samples / 4)\n",
        "\n",
        "print(total_samples,n_iterations)"
      ],
      "metadata": {
        "colab": {
          "base_uri": "https://localhost:8080/"
        },
        "id": "UV1khx51fvAv",
        "outputId": "313f79e9-bd52-48b0-dae6-0cf00741e505"
      },
      "execution_count": 53,
      "outputs": [
        {
          "output_type": "stream",
          "name": "stdout",
          "text": [
            "178 45\n"
          ]
        }
      ]
    },
    {
      "cell_type": "code",
      "source": [
        "for epoch in range(num_epochs):\n",
        "  for i,(inputs,labels) in enumerate(dataloader):\n",
        "    # forward, backward, and update\n",
        "    if(i+1) % 5 == 0:\n",
        "      print(f'epoch {epoch+1} / {num_epochs}, step {i+1} / {n_iterations} ,inputs {inputs.shape}  ')"
      ],
      "metadata": {
        "colab": {
          "base_uri": "https://localhost:8080/"
        },
        "id": "HYXAAz5VmDXR",
        "outputId": "412444b5-c993-42e0-d0ed-76f9b47e5e64"
      },
      "execution_count": 54,
      "outputs": [
        {
          "output_type": "stream",
          "name": "stdout",
          "text": [
            "epoch 1 / 2, step 5 / 45 ,inputs torch.Size([4, 13])  \n",
            "epoch 1 / 2, step 10 / 45 ,inputs torch.Size([4, 13])  \n",
            "epoch 1 / 2, step 15 / 45 ,inputs torch.Size([4, 13])  \n",
            "epoch 1 / 2, step 20 / 45 ,inputs torch.Size([4, 13])  \n",
            "epoch 1 / 2, step 25 / 45 ,inputs torch.Size([4, 13])  \n",
            "epoch 1 / 2, step 30 / 45 ,inputs torch.Size([4, 13])  \n",
            "epoch 1 / 2, step 35 / 45 ,inputs torch.Size([4, 13])  \n",
            "epoch 1 / 2, step 40 / 45 ,inputs torch.Size([4, 13])  \n",
            "epoch 1 / 2, step 45 / 45 ,inputs torch.Size([2, 13])  \n",
            "epoch 2 / 2, step 5 / 45 ,inputs torch.Size([4, 13])  \n",
            "epoch 2 / 2, step 10 / 45 ,inputs torch.Size([4, 13])  \n",
            "epoch 2 / 2, step 15 / 45 ,inputs torch.Size([4, 13])  \n",
            "epoch 2 / 2, step 20 / 45 ,inputs torch.Size([4, 13])  \n",
            "epoch 2 / 2, step 25 / 45 ,inputs torch.Size([4, 13])  \n",
            "epoch 2 / 2, step 30 / 45 ,inputs torch.Size([4, 13])  \n",
            "epoch 2 / 2, step 35 / 45 ,inputs torch.Size([4, 13])  \n",
            "epoch 2 / 2, step 40 / 45 ,inputs torch.Size([4, 13])  \n",
            "epoch 2 / 2, step 45 / 45 ,inputs torch.Size([2, 13])  \n"
          ]
        }
      ]
    },
    {
      "cell_type": "code",
      "source": [
        "torchvision.datasets.MNIST()\n",
        "\n",
        "#fashion MNIST cifar coco\n"
      ],
      "metadata": {
        "colab": {
          "base_uri": "https://localhost:8080/",
          "height": 180
        },
        "id": "vgefKVXOvZSI",
        "outputId": "6cc36d72-c346-4100-eabc-8df8cf564123"
      },
      "execution_count": 55,
      "outputs": [
        {
          "output_type": "error",
          "ename": "TypeError",
          "evalue": "MNIST.__init__() missing 1 required positional argument: 'root'",
          "traceback": [
            "\u001b[0;31m---------------------------------------------------------------------------\u001b[0m",
            "\u001b[0;31mTypeError\u001b[0m                                 Traceback (most recent call last)",
            "\u001b[0;32m<ipython-input-55-25b6f519c612>\u001b[0m in \u001b[0;36m<cell line: 0>\u001b[0;34m()\u001b[0m\n\u001b[0;32m----> 1\u001b[0;31m \u001b[0mtorchvision\u001b[0m\u001b[0;34m.\u001b[0m\u001b[0mdatasets\u001b[0m\u001b[0;34m.\u001b[0m\u001b[0mMNIST\u001b[0m\u001b[0;34m(\u001b[0m\u001b[0;34m)\u001b[0m\u001b[0;34m\u001b[0m\u001b[0;34m\u001b[0m\u001b[0m\n\u001b[0m\u001b[1;32m      2\u001b[0m \u001b[0;34m\u001b[0m\u001b[0m\n\u001b[1;32m      3\u001b[0m \u001b[0;31m#fashion MNIST cifar coco\u001b[0m\u001b[0;34m\u001b[0m\u001b[0;34m\u001b[0m\u001b[0m\n",
            "\u001b[0;31mTypeError\u001b[0m: MNIST.__init__() missing 1 required positional argument: 'root'"
          ]
        }
      ]
    }
  ]
}