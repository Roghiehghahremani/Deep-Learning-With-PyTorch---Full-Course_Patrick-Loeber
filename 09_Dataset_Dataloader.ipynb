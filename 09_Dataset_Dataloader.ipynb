{
  "nbformat": 4,
  "nbformat_minor": 0,
  "metadata": {
    "colab": {
      "provenance": [],
      "authorship_tag": "ABX9TyPfkbhWPaqUl7k/JVQ5Q3F0",
      "include_colab_link": true
    },
    "kernelspec": {
      "name": "python3",
      "display_name": "Python 3"
    },
    "language_info": {
      "name": "python"
    }
  },
  "cells": [
    {
      "cell_type": "markdown",
      "metadata": {
        "id": "view-in-github",
        "colab_type": "text"
      },
      "source": [
        "<a href=\"https://colab.research.google.com/github/Roghiehghahremani/Deep-Learning-With-PyTorch---Full-Course_Patrick-Loeber/blob/main/09_Dataset_Dataloader.ipynb\" target=\"_parent\"><img src=\"https://colab.research.google.com/assets/colab-badge.svg\" alt=\"Open In Colab\"/></a>"
      ]
    },
    {
      "cell_type": "code",
      "execution_count": 1,
      "metadata": {
        "id": "hFwJFixkd5uz"
      },
      "outputs": [],
      "source": [
        "# epoch = 1 forward and backward pass of all training samples\n",
        "# batch_size = the number of training samples in one farward and backward pass\n",
        "# number of iterations = number of passes, each pass using [batch_size] number of samples\n",
        "# e.g 100 samples, batch_size = 20 --> 100/20 = 5 iterations for 1 epoch"
      ]
    },
    {
      "cell_type": "code",
      "source": [
        "import torch\n",
        "import torchvision\n",
        "from torch.utils.data import Dataset, DataLoader\n",
        "import numpy as np\n",
        "import math"
      ],
      "metadata": {
        "id": "s9bIXtqAfcpW"
      },
      "execution_count": 13,
      "outputs": []
    },
    {
      "cell_type": "code",
      "source": [
        "# Load the Drive helper and mount\n",
        "from google.colab import drive\n",
        "drive.mount('/content/drive/')\n",
        "%cd /content/drive/MyDrive"
      ],
      "metadata": {
        "colab": {
          "base_uri": "https://localhost:8080/"
        },
        "id": "l0vGu1hRhfHV",
        "outputId": "91e4085b-0016-4817-ceb4-ce6212831928"
      },
      "execution_count": 24,
      "outputs": [
        {
          "output_type": "stream",
          "name": "stdout",
          "text": [
            "Drive already mounted at /content/drive/; to attempt to forcibly remount, call drive.mount(\"/content/drive/\", force_remount=True).\n",
            "/content/drive/MyDrive\n"
          ]
        }
      ]
    },
    {
      "cell_type": "code",
      "source": [
        "class WineDataset(Dataset):\n",
        "  def __init__(self):\n",
        "    # Data loading\n",
        "    xy = np.loadtxt('wine.csv', delimiter=\",\", dtype=np.float32,skiprows=1 )\n",
        "    self.x = torch.from_numpy(xy[:,1:])\n",
        "    self.y = torch.from_numpy(xy[:,[0]]) # n_samples, 1\n",
        "    self.n_samples = xy.shape[0]\n",
        "  def __getitem__(self,index):\n",
        "    # dataset[0]\n",
        "    return self.x[index],self.y[index]\n",
        "  def __len__(self):\n",
        "    #len(dataset)\n",
        "    return self.n_samples\n",
        "\n",
        "dataset = WineDataset()\n",
        "\n",
        "dataloader = DataLoader(dataset=dataset,batch_size=4,shuffle=True,num_workers=2)\n",
        "\n",
        "#dataiter = iter(dataloader)\n",
        "#data = next(dataiter)\n",
        "\n",
        "#features,labels = data\n",
        "\n",
        "#print(features,labels)\n",
        "\n",
        "# Training loop\n",
        "\n",
        "num_epochs = 2\n",
        "\n",
        "total_samples = len(dataset)\n",
        "\n",
        "n_iterations = math.ceil(total_samples / 4)\n",
        "\n",
        "print(total_samples,n_iterations)"
      ],
      "metadata": {
        "colab": {
          "base_uri": "https://localhost:8080/"
        },
        "id": "UV1khx51fvAv",
        "outputId": "4ab37c98-e385-44cb-8546-b75af73f78d9"
      },
      "execution_count": 47,
      "outputs": [
        {
          "output_type": "stream",
          "name": "stdout",
          "text": [
            "178 45\n"
          ]
        }
      ]
    },
    {
      "cell_type": "code",
      "source": [
        "for epoch in range(num_epochs):\n",
        "  for i,(inputs,labels) in enumerate(dataloader):\n",
        "    # forward, backward, and update\n",
        "    if(i+1) % 5 == 0:\n",
        "      print(f'epoch {epoch+1} / {num_epochs}, step {i+1} / {n_iterations} ,inputs {inputs.shape}  ')"
      ],
      "metadata": {
        "colab": {
          "base_uri": "https://localhost:8080/"
        },
        "id": "HYXAAz5VmDXR",
        "outputId": "4f757396-b7ce-485e-f991-f5a7f625c5d9"
      },
      "execution_count": 49,
      "outputs": [
        {
          "output_type": "stream",
          "name": "stdout",
          "text": [
            "epoch 1 / 2, step 5 / 45 ,inputs torch.Size([4, 13])  \n",
            "epoch 1 / 2, step 10 / 45 ,inputs torch.Size([4, 13])  \n",
            "epoch 1 / 2, step 15 / 45 ,inputs torch.Size([4, 13])  \n",
            "epoch 1 / 2, step 20 / 45 ,inputs torch.Size([4, 13])  \n",
            "epoch 1 / 2, step 25 / 45 ,inputs torch.Size([4, 13])  \n",
            "epoch 1 / 2, step 30 / 45 ,inputs torch.Size([4, 13])  \n",
            "epoch 1 / 2, step 35 / 45 ,inputs torch.Size([4, 13])  \n",
            "epoch 1 / 2, step 40 / 45 ,inputs torch.Size([4, 13])  \n",
            "epoch 1 / 2, step 45 / 45 ,inputs torch.Size([2, 13])  \n",
            "epoch 2 / 2, step 5 / 45 ,inputs torch.Size([4, 13])  \n",
            "epoch 2 / 2, step 10 / 45 ,inputs torch.Size([4, 13])  \n",
            "epoch 2 / 2, step 15 / 45 ,inputs torch.Size([4, 13])  \n",
            "epoch 2 / 2, step 20 / 45 ,inputs torch.Size([4, 13])  \n",
            "epoch 2 / 2, step 25 / 45 ,inputs torch.Size([4, 13])  \n",
            "epoch 2 / 2, step 30 / 45 ,inputs torch.Size([4, 13])  \n",
            "epoch 2 / 2, step 35 / 45 ,inputs torch.Size([4, 13])  \n",
            "epoch 2 / 2, step 40 / 45 ,inputs torch.Size([4, 13])  \n",
            "epoch 2 / 2, step 45 / 45 ,inputs torch.Size([2, 13])  \n"
          ]
        }
      ]
    },
    {
      "cell_type": "code",
      "source": [
        "torchvision.datasets.MNIST()\n",
        "\n",
        "#fashion MNIST cifar coco\n"
      ],
      "metadata": {
        "id": "vgefKVXOvZSI"
      },
      "execution_count": null,
      "outputs": []
    }
  ]
}