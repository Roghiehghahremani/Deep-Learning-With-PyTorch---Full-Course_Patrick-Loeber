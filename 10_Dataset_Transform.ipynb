{
  "nbformat": 4,
  "nbformat_minor": 0,
  "metadata": {
    "colab": {
      "provenance": [],
      "authorship_tag": "ABX9TyNfmX+fpA15ItctbRQsngxa",
      "include_colab_link": true
    },
    "kernelspec": {
      "name": "python3",
      "display_name": "Python 3"
    },
    "language_info": {
      "name": "python"
    }
  },
  "cells": [
    {
      "cell_type": "markdown",
      "metadata": {
        "id": "view-in-github",
        "colab_type": "text"
      },
      "source": [
        "<a href=\"https://colab.research.google.com/github/Roghiehghahremani/Deep-Learning-With-PyTorch---Full-Course_Patrick-Loeber/blob/main/10_Dataset_Transform.ipynb\" target=\"_parent\"><img src=\"https://colab.research.google.com/assets/colab-badge.svg\" alt=\"Open In Colab\"/></a>"
      ]
    },
    {
      "cell_type": "code",
      "execution_count": 15,
      "metadata": {
        "id": "cMf3ceklOcm8"
      },
      "outputs": [],
      "source": [
        "import torch\n",
        "import torchvision\n",
        "from torch.utils.data import Dataset, DataLoader\n",
        "import numpy as np"
      ]
    },
    {
      "cell_type": "code",
      "source": [
        "# Load the Drive helper and mount\n",
        "from google.colab import drive\n",
        "drive.mount('/content/drive/')\n",
        "%cd /content/drive/MyDrive/DLPyTorch_Patrick_Loeber"
      ],
      "metadata": {
        "colab": {
          "base_uri": "https://localhost:8080/"
        },
        "id": "0Ray9vEXPZHc",
        "outputId": "9017c401-a20e-45bd-b53a-7a93d4ae8eb6"
      },
      "execution_count": 9,
      "outputs": [
        {
          "output_type": "stream",
          "name": "stdout",
          "text": [
            "Drive already mounted at /content/drive/; to attempt to forcibly remount, call drive.mount(\"/content/drive/\", force_remount=True).\n",
            "/content/drive/MyDrive/DLPyTorch_Patrick_Loeber\n"
          ]
        }
      ]
    },
    {
      "cell_type": "code",
      "source": [
        "from pathlib import WindowsPath\n",
        "class WineDataset(Dataset):\n",
        "  def __init__(self,transform=None):\n",
        "    # Data loading\n",
        "    xy = np.loadtxt('./data/wine/wine.csv', delimiter=\",\", dtype=np.float32,skiprows=1 )\n",
        "    self.x = (xy[:,1:])\n",
        "    self.y = (xy[:,[0]]) # n_samples, 1\n",
        "    self.n_samples = xy.shape[0]\n",
        "    self.transform = transform\n",
        "  def __getitem__(self,index):\n",
        "    # dataset[0]\n",
        "    sample = self.x[index],self.y[index]\n",
        "    if self.transform:\n",
        "      sample = self.transform(sample)\n",
        "    return sample\n",
        "  def __len__(self):\n",
        "    #len(dataset)\n",
        "    return self.n_samples\n",
        "\n",
        "class ToTensor:\n",
        "  def __call__(self,sample):\n",
        "    inputs,targets = sample\n",
        "    return torch.from_numpy(inputs),torch.from_numpy(targets)\n",
        "\n",
        "class MulTransform:\n",
        "  def __init__(self,factor):\n",
        "    self.factor = factor\n",
        "  def __call__(self, sample):\n",
        "    inputs,target = sample\n",
        "    inputs *=self.factor\n",
        "    return inputs,target\n",
        "\n",
        "\n",
        "\n",
        "dataset = WineDataset(transform=None)\n",
        "first_data = dataset[0]\n",
        "features,labels = first_data\n",
        "print(features)\n",
        "print(type(features),type(labels))\n",
        "\n",
        "composed = torchvision.transforms.Compose([ToTensor(), MulTransform(0)])\n",
        "\n",
        "dataset = WineDataset(transform= composed)\n",
        "first_data = dataset[0]\n",
        "features,labels = first_data\n",
        "print(features)\n",
        "print(type(features),type(labels))"
      ],
      "metadata": {
        "colab": {
          "base_uri": "https://localhost:8080/"
        },
        "id": "nsBHCX0URcXQ",
        "outputId": "260ab1c2-2d66-431a-e663-19f509c7af02"
      },
      "execution_count": 24,
      "outputs": [
        {
          "output_type": "stream",
          "name": "stdout",
          "text": [
            "[1.423e+01 1.710e+00 2.430e+00 1.560e+01 1.270e+02 2.800e+00 3.060e+00\n",
            " 2.800e-01 2.290e+00 5.640e+00 1.040e+00 3.920e+00 1.065e+03]\n",
            "<class 'numpy.ndarray'> <class 'numpy.ndarray'>\n",
            "tensor([0., 0., 0., 0., 0., 0., 0., 0., 0., 0., 0., 0., 0.])\n",
            "<class 'torch.Tensor'> <class 'torch.Tensor'>\n"
          ]
        }
      ]
    },
    {
      "cell_type": "code",
      "source": [],
      "metadata": {
        "id": "z6c91eDkQC4d"
      },
      "execution_count": null,
      "outputs": []
    }
  ]
}