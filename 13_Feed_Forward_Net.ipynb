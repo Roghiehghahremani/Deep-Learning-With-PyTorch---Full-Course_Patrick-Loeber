{
  "nbformat": 4,
  "nbformat_minor": 0,
  "metadata": {
    "colab": {
      "provenance": [],
      "authorship_tag": "ABX9TyNbvlfMNX+LXAfZZuvnYeZ2",
      "include_colab_link": true
    },
    "kernelspec": {
      "name": "python3",
      "display_name": "Python 3"
    },
    "language_info": {
      "name": "python"
    }
  },
  "cells": [
    {
      "cell_type": "markdown",
      "metadata": {
        "id": "view-in-github",
        "colab_type": "text"
      },
      "source": [
        "<a href=\"https://colab.research.google.com/github/Roghiehghahremani/Deep-Learning-With-PyTorch---Full-Course_Patrick-Loeber/blob/main/13_Feed_Forward_Net.ipynb\" target=\"_parent\"><img src=\"https://colab.research.google.com/assets/colab-badge.svg\" alt=\"Open In Colab\"/></a>"
      ]
    },
    {
      "cell_type": "code",
      "execution_count": 29,
      "metadata": {
        "id": "mRv2PRnF85_2"
      },
      "outputs": [],
      "source": [
        "# MNIST\n",
        "# DataLoader, Transformation\n",
        "# MUltilayer Neural Net, Activation Function\n",
        "# Loss and optimizer\n",
        "# Training loop (batch training)\n",
        "# Model Evaluation\n",
        "# GPU support"
      ]
    },
    {
      "cell_type": "code",
      "source": [
        "# Load the Drive helper and mount\n",
        "from google.colab import drive\n",
        "drive.mount('/content/drive/')\n",
        "%cd /content/drive/MyDrive/DLPyTorch_Patrick_Loeber"
      ],
      "metadata": {
        "id": "ZSDR2BTMkErt",
        "outputId": "fa926c3b-8cb8-46f6-f1b7-8a304a0d4aeb",
        "colab": {
          "base_uri": "https://localhost:8080/"
        }
      },
      "execution_count": 30,
      "outputs": [
        {
          "output_type": "stream",
          "name": "stdout",
          "text": [
            "Drive already mounted at /content/drive/; to attempt to forcibly remount, call drive.mount(\"/content/drive/\", force_remount=True).\n",
            "/content/drive/MyDrive/DLPyTorch_Patrick_Loeber\n"
          ]
        }
      ]
    },
    {
      "cell_type": "code",
      "source": [
        "import torch\n",
        "import torch.nn as nn\n",
        "import torchvision\n",
        "import torchvision.transforms as transforms\n",
        "import matplotlib.pyplot as plt"
      ],
      "metadata": {
        "id": "rofBGnepheH1"
      },
      "execution_count": 31,
      "outputs": []
    },
    {
      "cell_type": "code",
      "source": [
        "# device config\n",
        "\n",
        "device = torch.device('cuda' if torch.cuda.is_available() else 'cpu')\n"
      ],
      "metadata": {
        "id": "_-iIX2vkh-OH"
      },
      "execution_count": 32,
      "outputs": []
    },
    {
      "cell_type": "code",
      "source": [
        "# hyper parameters\n",
        "input_size = 784 # 28*28\n",
        "hidden_size = 100\n",
        "num_classes = 10\n",
        "num_epochs = 2\n",
        "batch_size = 100\n",
        "learning_rate = 0.01"
      ],
      "metadata": {
        "id": "nPwSgVsLigW7"
      },
      "execution_count": 33,
      "outputs": []
    },
    {
      "cell_type": "code",
      "source": [
        "# MNIST\n",
        "train_dataset = torchvision.datasets.MNIST(root = './data', train=True, transform=transforms.ToTensor(), download=True)\n",
        "test_dataset = torchvision.datasets.MNIST(root = './data',train=False, transform=transforms.ToTensor())\n"
      ],
      "metadata": {
        "collapsed": true,
        "id": "bF5PQySqi3iC"
      },
      "execution_count": 34,
      "outputs": []
    },
    {
      "cell_type": "code",
      "source": [
        "train_loader = torch.utils.data.DataLoader(dataset=train_dataset,batch_size=batch_size,shuffle=True)\n",
        "test_loader = torch.utils.data.DataLoader(dataset=test_dataset,batch_size=batch_size,shuffle=False)\n",
        "\n",
        "examples = iter(train_loader)\n",
        "samples, labels = next(examples)\n",
        "print(samples.shape,labels.shape)\n"
      ],
      "metadata": {
        "id": "yQFCIhIfktys",
        "outputId": "174ca14e-3822-4653-cfc2-5a1a9a00ddd2",
        "colab": {
          "base_uri": "https://localhost:8080/"
        }
      },
      "execution_count": 35,
      "outputs": [
        {
          "output_type": "stream",
          "name": "stdout",
          "text": [
            "torch.Size([100, 1, 28, 28]) torch.Size([100])\n"
          ]
        }
      ]
    },
    {
      "cell_type": "code",
      "source": [
        "for i in range(6):\n",
        "  plt.subplot(2,3, i+1)\n",
        "  plt.imshow(samples[i][0],cmap='grey')\n",
        "plt.show()"
      ],
      "metadata": {
        "id": "uucCrZNRncsk",
        "outputId": "eae032a8-50d4-4cf8-cedf-e68bba050533",
        "colab": {
          "base_uri": "https://localhost:8080/",
          "height": 411
        }
      },
      "execution_count": 36,
      "outputs": [
        {
          "output_type": "display_data",
          "data": {
            "text/plain": [
              "<Figure size 640x480 with 6 Axes>"
            ],
            "image/png": "[encoded data removed]"
          },
          "metadata": {}
        }
      ]
    },
    {
      "cell_type": "code",
      "source": [
        "class NeuralNet(nn.Module):\n",
        "  def __init__(self,input_size,hidden_size,num_classes):\n",
        "    super(NeuralNet,self).__init__()\n",
        "    self.l1 = nn.Linear(input_size,hidden_size)\n",
        "    self.relu = nn.ReLU()\n",
        "    self.l2 = nn.Linear(hidden_size,num_classes)\n",
        "\n",
        "  def forward(self,x):\n",
        "    out = self.l1(x)\n",
        "    out = self.relu(out)\n",
        "    out = self.l2(out)\n",
        "    return out\n",
        "\n",
        "model = NeuralNet(input_size,hidden_size,num_classes)\n",
        "\n",
        "# loss and optimizer\n",
        "\n",
        "criterion = nn.CrossEntropyLoss()\n",
        "\n",
        "optimizer = torch.optim.Adam(model.parameters(), lr = learning_rate)\n",
        "\n",
        "# training loop\n",
        "\n",
        "n_total_steps =  len(train_loader)\n",
        "\n",
        "for epoch in range(num_epochs):\n",
        "  for i, (images,labels) in enumerate(train_loader):\n",
        "    # 100 1 28 28\n",
        "    # 100 784\n",
        "    images = images.reshape(-1,28*28).to(device)\n",
        "    labels = labels.to(device)\n",
        "\n",
        "    # forward pass\n",
        "    outputs = model(images)\n",
        "    loss = criterion(outputs,labels)\n",
        "    # backward pass\n",
        "    optimizer.zero_grad() # empty the gredient in gradient attribute\n",
        "\n",
        "    loss.backward()\n",
        "    optimizer.step()\n",
        "\n",
        "    if (i+1) % 100 == 0:\n",
        "      print(f'epoch {epoch + 1} / {num_epochs}, step {i + 1} / {n_total_steps} loss = {loss.item():.3f} ')\n",
        "\n",
        "\n",
        "\n",
        "\n",
        "\n"
      ],
      "metadata": {
        "id": "otBlXZCSoTLB",
        "outputId": "b42269d4-2631-492f-ccd9-39067d83bce2",
        "colab": {
          "base_uri": "https://localhost:8080/"
        }
      },
      "execution_count": 37,
      "outputs": [
        {
          "output_type": "stream",
          "name": "stdout",
          "text": [
            "epoch 1 / 2, step 100 / 600 loss = 0.315 \n",
            "epoch 1 / 2, step 200 / 600 loss = 0.223 \n",
            "epoch 1 / 2, step 300 / 600 loss = 0.135 \n",
            "epoch 1 / 2, step 400 / 600 loss = 0.137 \n",
            "epoch 1 / 2, step 500 / 600 loss = 0.120 \n",
            "epoch 1 / 2, step 600 / 600 loss = 0.165 \n",
            "epoch 2 / 2, step 100 / 600 loss = 0.068 \n",
            "epoch 2 / 2, step 200 / 600 loss = 0.077 \n",
            "epoch 2 / 2, step 300 / 600 loss = 0.044 \n",
            "epoch 2 / 2, step 400 / 600 loss = 0.087 \n",
            "epoch 2 / 2, step 500 / 600 loss = 0.129 \n",
            "epoch 2 / 2, step 600 / 600 loss = 0.027 \n"
          ]
        }
      ]
    },
    {
      "cell_type": "code",
      "source": [
        "# test\n",
        "with torch.no_grad():\n",
        "  n_correct = 0\n",
        "  n_samples = 0\n",
        "  for images,labels in test_loader:\n",
        "    images = images.reshape(-1,28*28).to(device)\n",
        "    labels = labels.to(device)\n",
        "    outputs = model(images)\n",
        "    # value, index\n",
        "    _,predictions = torch.max(outputs,1)\n",
        "    n_samples += labels.shape[0]\n",
        "    n_correct += (predictions == labels).sum().item()\n",
        "  acc = 100.0 * n_correct/n_samples\n",
        "  print(f'accuracy = {acc}')"
      ],
      "metadata": {
        "id": "a4CnShEauaeH",
        "outputId": "a7b697da-8111-49b1-f766-9fe4114cd0c7",
        "colab": {
          "base_uri": "https://localhost:8080/"
        }
      },
      "execution_count": 38,
      "outputs": [
        {
          "output_type": "stream",
          "name": "stdout",
          "text": [
            "accuracy = 97.08\n"
          ]
        }
      ]
    },
    {
      "cell_type": "code",
      "source": [],
      "metadata": {
        "id": "I7UIhIrsxsCt"
      },
      "execution_count": 38,
      "outputs": []
    }
  ]
}