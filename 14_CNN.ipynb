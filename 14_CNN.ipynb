{
  "nbformat": 4,
  "nbformat_minor": 0,
  "metadata": {
    "colab": {
      "provenance": [],
      "authorship_tag": "ABX9TyMUHgZ0EW6zMcaPCU9e1I59",
      "include_colab_link": true
    },
    "kernelspec": {
      "name": "python3",
      "display_name": "Python 3"
    },
    "language_info": {
      "name": "python"
    }
  },
  "cells": [
    {
      "cell_type": "markdown",
      "metadata": {
        "id": "view-in-github",
        "colab_type": "text"
      },
      "source": [
        "<a href=\"https://colab.research.google.com/github/Roghiehghahremani/Deep-Learning-With-PyTorch---Full-Course_Patrick-Loeber/blob/main/14_CNN.ipynb\" target=\"_parent\"><img src=\"https://colab.research.google.com/assets/colab-badge.svg\" alt=\"Open In Colab\"/></a>"
      ]
    },
    {
      "cell_type": "code",
      "execution_count": 8,
      "metadata": {
        "id": "-JdIVxPC3pxm"
      },
      "outputs": [],
      "source": [
        "import torch\n",
        "import torch.nn as nn\n",
        "import torch.nn.functional as F\n",
        "import torchvision\n",
        "import torchvision.transforms as transforms\n",
        "import matplotlib.pyplot as plt\n",
        "import numpy as np\n"
      ]
    },
    {
      "cell_type": "code",
      "source": [
        "# Load the Drive helper and mount\n",
        "from google.colab import drive\n",
        "drive.mount('/content/drive/')\n",
        "%cd /content/drive/MyDrive/DLPyTorch_Patrick_Loeber"
      ],
      "metadata": {
        "colab": {
          "base_uri": "https://localhost:8080/"
        },
        "id": "MEk95lPo74SZ",
        "outputId": "05abd9f6-5cac-4e1d-d9bd-4425784c4e99"
      },
      "execution_count": 9,
      "outputs": [
        {
          "output_type": "stream",
          "name": "stdout",
          "text": [
            "Drive already mounted at /content/drive/; to attempt to forcibly remount, call drive.mount(\"/content/drive/\", force_remount=True).\n",
            "/content/drive/MyDrive/DLPyTorch_Patrick_Loeber\n"
          ]
        }
      ]
    },
    {
      "cell_type": "code",
      "source": [
        "# Device configuration\n",
        "device = torch.device('cuda' if torch.cuda.is_available() else 'cpu')\n"
      ],
      "metadata": {
        "id": "GEpByK615fEW"
      },
      "execution_count": 10,
      "outputs": []
    },
    {
      "cell_type": "code",
      "source": [
        "# Hyper=parameters\n",
        "num_epochs = 20\n",
        "batch_size = 4\n",
        "learning_rate = 0.001\n"
      ],
      "metadata": {
        "id": "rnz8wsCJ6GfE"
      },
      "execution_count": 25,
      "outputs": []
    },
    {
      "cell_type": "code",
      "source": [
        "# dataset has PILImage images of range [0, 1]\n",
        "# we transform them to Tensors of normalized range [-1,1]\n",
        "transform = transforms.Compose(\n",
        "    [transforms.ToTensor(),\n",
        "     transforms.Normalize((0.5,0.5,0.5),(0.5,0.5,0.5))])"
      ],
      "metadata": {
        "id": "_wS7PZB76YLa"
      },
      "execution_count": 26,
      "outputs": []
    },
    {
      "cell_type": "code",
      "source": [
        "train_dataset = torchvision.datasets.CIFAR10(root = './data',train=True,\n",
        "                                             download=True, transform=transform)\n",
        "test_dataset = torchvision.datasets.CIFAR10(root = './data',train=False,\n",
        "                                             download=True, transform=transform)\n",
        "train_loader = torch.utils.data.DataLoader(train_dataset,batch_size=batch_size,\n",
        "                                           shuffle=True)\n",
        "test_loader = torch.utils.data.DataLoader(test_dataset,batch_size=batch_size,\n",
        "                                           shuffle=False)\n",
        "classes = ('plane',\"car\",'bird','cat',\n",
        "           'deer','dog', 'frog','horse','ship','truck' )\n"
      ],
      "metadata": {
        "colab": {
          "base_uri": "https://localhost:8080/"
        },
        "id": "jBrkaepu7S5L",
        "outputId": "cf137358-7782-42fb-c9e3-7953bd2bac0d"
      },
      "execution_count": 27,
      "outputs": [
        {
          "output_type": "stream",
          "name": "stdout",
          "text": [
            "Files already downloaded and verified\n",
            "Files already downloaded and verified\n"
          ]
        }
      ]
    },
    {
      "cell_type": "code",
      "source": [
        "# implement conv net\n",
        "class ConvNet(nn.Module):\n",
        "  def __init__(self):\n",
        "    super(ConvNet,self).__init__()\n",
        "    self.conv1 = nn.Conv2d(3,6,5)\n",
        "    self.pool = nn.MaxPool2d(2,2)\n",
        "    self.conv2 = nn.Conv2d(6,16,5)\n",
        "    self.fc1 = nn.Linear(16*5*5,120)\n",
        "    self.fc2 = nn.Linear(120,84)\n",
        "    self.fc3 = nn.Linear(84,10)\n",
        "\n",
        "  def forward(self,x):\n",
        "    x = self.pool(F.relu(self.conv1(x)))\n",
        "    x = self.pool(F.relu(self.conv2(x)))\n",
        "    x = x.view(-1,16*5*5)\n",
        "    x = F.relu(self.fc1(x))\n",
        "    x = F.relu(self.fc2(x))\n",
        "    x = self.fc3(x)\n",
        "    return x\n",
        "\n",
        "\n",
        "\n",
        "model = ConvNet().to(device)\n",
        "\n",
        "criterion = nn.CrossEntropyLoss()\n",
        "optimizer = torch.optim.SGD(model.parameters(),lr = learning_rate)\n",
        "\n",
        "n_total_steps = len(train_loader)\n",
        "for epoch in range(num_epochs):\n",
        "  for i,(images,labels) in enumerate(train_loader):\n",
        "    # origin shape [4,3,32,32] 4, 3 , 1024\n",
        "    # input_layers 3 input channels, 6 output channels , 5 kernal size\n",
        "    images = images.to(device)\n",
        "    labels = labels.to(device)\n",
        "\n",
        "    # forward pass\n",
        "    outputs = model(images)\n",
        "    loss = criterion(outputs,labels)\n",
        "\n",
        "    # backward pass and optimize\n",
        "    optimizer.zero_grad()\n",
        "    loss.backward()\n",
        "\n",
        "    optimizer.step()\n",
        "\n",
        "    if (i+1) % 12500 == 0:\n",
        "      print(f'Epoch [{epoch+1}/{num_epochs}, Step {i+1} / {n_total_steps}, Loss = {loss.item():.4f}]')\n",
        "print('finished training')"
      ],
      "metadata": {
        "colab": {
          "base_uri": "https://localhost:8080/"
        },
        "id": "CNOjjifp9Nlj",
        "outputId": "2532faad-05f4-403a-8664-f6fee0567eb1"
      },
      "execution_count": null,
      "outputs": [
        {
          "output_type": "stream",
          "name": "stdout",
          "text": [
            "Epoch [1/20, Step 12500 / 12500, Loss = 2.0763]\n",
            "Epoch [2/20, Step 12500 / 12500, Loss = 1.3964]\n",
            "Epoch [3/20, Step 12500 / 12500, Loss = 1.3038]\n",
            "Epoch [4/20, Step 12500 / 12500, Loss = 2.0168]\n",
            "Epoch [5/20, Step 12500 / 12500, Loss = 1.1949]\n",
            "Epoch [6/20, Step 12500 / 12500, Loss = 0.7638]\n"
          ]
        }
      ]
    },
    {
      "cell_type": "code",
      "source": [
        "with torch.no_grad():\n",
        "  n_correct = 0\n",
        "  n_samples = 0\n",
        "  n_class_correct = [0 for i in range(10)]\n",
        "  n_class_samples = [0 for i in range(10)]\n",
        "  for images,labels in test_loader:\n",
        "    images = images.to(device)\n",
        "    labels = labels.to(device)\n",
        "    outputs = model(images)\n",
        "    # max returns value, index\n",
        "    _,predicted = torch.max(outputs,1)\n",
        "    n_samples += labels.shape[0]\n",
        "    n_correct += (predicted == labels).sum().item()\n",
        "    for i in range(batch_size):\n",
        "      label = labels[i]\n",
        "      pred = predicted[i]\n",
        "      if (label == pred):\n",
        "        n_class_correct[label] += 1\n",
        "      n_class_samples[label] += 1\n",
        "\n",
        "\n",
        "  acc = 100.0 * n_correct/n_samples\n",
        "  print(f'accuracy of the network= {acc}')\n",
        "  for i in range(10):\n",
        "    acc = 100.0 * n_class_correct[i]/n_class_samples[i]\n",
        "    print(f'accuracy of {classes[i]}= {acc} %')"
      ],
      "metadata": {
        "colab": {
          "base_uri": "https://localhost:8080/"
        },
        "id": "JkJnD_UkAxUU",
        "outputId": "b04d5921-cc15-4c28-9a30-90632fe636cf"
      },
      "execution_count": 24,
      "outputs": [
        {
          "output_type": "stream",
          "name": "stdout",
          "text": [
            "accuracy of the network= 59.01\n",
            "accuracy of plane= 77.5 %\n",
            "accuracy of car= 69.9 %\n",
            "accuracy of bird= 27.6 %\n",
            "accuracy of cat= 42.0 %\n",
            "accuracy of deer= 55.6 %\n",
            "accuracy of dog= 48.6 %\n",
            "accuracy of frog= 81.2 %\n",
            "accuracy of horse= 63.8 %\n",
            "accuracy of ship= 61.4 %\n",
            "accuracy of truck= 62.5 %\n"
          ]
        }
      ]
    }
  ]
}