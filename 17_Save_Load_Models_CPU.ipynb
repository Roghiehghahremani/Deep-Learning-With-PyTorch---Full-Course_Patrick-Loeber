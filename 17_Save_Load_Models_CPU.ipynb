{
  "nbformat": 4,
  "nbformat_minor": 0,
  "metadata": {
    "colab": {
      "provenance": [],
      "authorship_tag": "ABX9TyOr9HqutG6kYO1GaZs080f/",
      "include_colab_link": true
    },
    "kernelspec": {
      "name": "python3",
      "display_name": "Python 3"
    },
    "language_info": {
      "name": "python"
    }
  },
  "cells": [
    {
      "cell_type": "markdown",
      "metadata": {
        "id": "view-in-github",
        "colab_type": "text"
      },
      "source": [
        "<a href=\"https://colab.research.google.com/github/Roghiehghahremani/Deep-Learning-With-PyTorch---Full-Course_Patrick-Loeber/blob/main/17_Save_Load_Models_CPU.ipynb\" target=\"_parent\"><img src=\"https://colab.research.google.com/assets/colab-badge.svg\" alt=\"Open In Colab\"/></a>"
      ]
    },
    {
      "cell_type": "code",
      "execution_count": 2,
      "metadata": {
        "id": "ENnmGfzQ-yjJ"
      },
      "outputs": [],
      "source": [
        "import torch\n",
        "import torch.nn as nn"
      ]
    },
    {
      "cell_type": "code",
      "source": [
        "# Load the Drive helper and mount\n",
        "from google.colab import drive\n",
        "drive.mount('/content/drive/')\n",
        "%cd /content/drive/MyDrive/DLPyTorch_Patrick_Loeber/Save_Load"
      ],
      "metadata": {
        "colab": {
          "base_uri": "https://localhost:8080/"
        },
        "id": "ZFY3qhifMiHa",
        "outputId": "8d02482e-e952-488f-fcb0-94a43ea4f5ff"
      },
      "execution_count": 5,
      "outputs": [
        {
          "output_type": "stream",
          "name": "stdout",
          "text": [
            "Drive already mounted at /content/drive/; to attempt to forcibly remount, call drive.mount(\"/content/drive/\", force_remount=True).\n",
            "/content/drive/MyDrive/DLPyTorch_Patrick_Loeber/Save_Load\n"
          ]
        }
      ]
    },
    {
      "cell_type": "code",
      "source": [
        "class Model(nn.Module):\n",
        "  def __init__(self,n_input_features):\n",
        "    super(Model,self).__init__()\n",
        "    self.linear = nn.Linear(n_input_features,1)\n",
        "\n",
        "  def forward(self,x):\n",
        "    y_pred = torch.Sigmoid(self.linear(x))\n",
        "    return y_pred\n",
        "model = Model(n_input_features=6)\n",
        "for param in model.parameters():\n",
        "  print(param)\n",
        "print()\n",
        "# train your model\n",
        "\n",
        "FILE = \"model.pth\" # pth stands for pytorch\n",
        "torch.save(model,FILE)\n",
        "model = torch.load(FILE)\n",
        "\n",
        "model.eval()\n",
        "\n",
        "for param in model.parameters():\n",
        "  print(param)"
      ],
      "metadata": {
        "colab": {
          "base_uri": "https://localhost:8080/"
        },
        "id": "BU-cfgsCLbJN",
        "outputId": "2a13e751-f993-47b4-b5ad-a303d667aa34"
      },
      "execution_count": 18,
      "outputs": [
        {
          "output_type": "stream",
          "name": "stdout",
          "text": [
            "Parameter containing:\n",
            "tensor([[-0.2378,  0.3511, -0.2029,  0.2321, -0.2253,  0.1295]],\n",
            "       requires_grad=True)\n",
            "Parameter containing:\n",
            "tensor([0.2992], requires_grad=True)\n",
            "\n",
            "Parameter containing:\n",
            "tensor([[-0.2378,  0.3511, -0.2029,  0.2321, -0.2253,  0.1295]],\n",
            "       requires_grad=True)\n",
            "Parameter containing:\n",
            "tensor([0.2992], requires_grad=True)\n"
          ]
        },
        {
          "output_type": "stream",
          "name": "stderr",
          "text": [
            "<ipython-input-18-0551424631ea>:17: FutureWarning: You are using `torch.load` with `weights_only=False` (the current default value), which uses the default pickle module implicitly. It is possible to construct malicious pickle data which will execute arbitrary code during unpickling (See https://github.com/pytorch/pytorch/blob/main/SECURITY.md#untrusted-models for more details). In a future release, the default value for `weights_only` will be flipped to `True`. This limits the functions that could be executed during unpickling. Arbitrary objects will no longer be allowed to be loaded via this mode unless they are explicitly allowlisted by the user via `torch.serialization.add_safe_globals`. We recommend you start setting `weights_only=True` for any use case where you don't have full control of the loaded file. Please open an issue on GitHub for any issues related to this experimental feature.\n",
            "  model = torch.load(FILE)\n"
          ]
        }
      ]
    },
    {
      "cell_type": "code",
      "source": [
        "class Model(nn.Module):\n",
        "  def __init__(self,n_input_features):\n",
        "    super(Model,self).__init__()\n",
        "    self.linear = nn.Linear(n_input_features,1)\n",
        "\n",
        "  def forward(self,x):\n",
        "    y_pred = torch.Sigmoid(self.linear(x))\n",
        "    return y_pred\n",
        "model = Model(n_input_features=6)\n",
        "\n",
        "for param in model.parameters():\n",
        "  print(param)\n",
        "print()\n",
        "# train your model\n",
        "\n",
        "# option 2:\n",
        "\n",
        "\n",
        "####### State DICT ########\n",
        "FILE = \"model.pth\" # pth stands for pytorch\n",
        "torch.save(model.state_dict(),FILE)\n",
        "\n",
        "\n",
        "loaded_model = Model(n_input_features=6)\n",
        "loaded_model.load_state_dict(torch.load(FILE))\n",
        "loaded_model.eval()\n",
        "\n",
        "for param in loaded_model.parameters():\n",
        "  print(param)"
      ],
      "metadata": {
        "colab": {
          "base_uri": "https://localhost:8080/"
        },
        "outputId": "60ef2d29-2db0-4df7-a3c7-4280bfe0e884",
        "collapsed": true,
        "id": "PVIwTsIBOyDT"
      },
      "execution_count": 14,
      "outputs": [
        {
          "output_type": "stream",
          "name": "stdout",
          "text": [
            "Parameter containing:\n",
            "tensor([[ 0.0768,  0.0079, -0.3019, -0.3034, -0.0330,  0.1155]],\n",
            "       requires_grad=True)\n",
            "Parameter containing:\n",
            "tensor([0.0235], requires_grad=True)\n",
            "\n",
            "Parameter containing:\n",
            "tensor([[ 0.0768,  0.0079, -0.3019, -0.3034, -0.0330,  0.1155]],\n",
            "       requires_grad=True)\n",
            "Parameter containing:\n",
            "tensor([0.0235], requires_grad=True)\n"
          ]
        },
        {
          "output_type": "stream",
          "name": "stderr",
          "text": [
            "<ipython-input-14-f47d66dc3dde>:25: FutureWarning: You are using `torch.load` with `weights_only=False` (the current default value), which uses the default pickle module implicitly. It is possible to construct malicious pickle data which will execute arbitrary code during unpickling (See https://github.com/pytorch/pytorch/blob/main/SECURITY.md#untrusted-models for more details). In a future release, the default value for `weights_only` will be flipped to `True`. This limits the functions that could be executed during unpickling. Arbitrary objects will no longer be allowed to be loaded via this mode unless they are explicitly allowlisted by the user via `torch.serialization.add_safe_globals`. We recommend you start setting `weights_only=True` for any use case where you don't have full control of the loaded file. Please open an issue on GitHub for any issues related to this experimental feature.\n",
            "  loaded_model.load_state_dict(torch.load(FILE))\n"
          ]
        }
      ]
    },
    {
      "cell_type": "code",
      "source": [
        "class Model(nn.Module):\n",
        "  def __init__(self,n_input_features):\n",
        "    super(Model,self).__init__()\n",
        "    self.linear = nn.Linear(n_input_features,1)\n",
        "\n",
        "  def forward(self,x):\n",
        "    y_pred = torch.Sigmoid(self.linear(x))\n",
        "    return y_pred\n",
        "model = Model(n_input_features=6)\n",
        "\n",
        "# train your model\n",
        "learning_rate = 0.01\n",
        "optimizer = torch.optim.SGD(model.parameters(), lr = learning_rate)\n",
        "#print(optimizer.state_dict())\n",
        "\n",
        "checkpoint = {\n",
        "    \"epoch\": 90,\n",
        "    \"model_state\":model.state_dict(),\n",
        "    \"optim_state\":optimizer.state_dict()\n",
        "}\n",
        "\n",
        "print('checkpoint',checkpoint)\n",
        "print()\n",
        "torch.save(checkpoint,\"checkpoint.pth\")\n",
        "\n",
        "#loaded_checkpoint = Model(n_input_features=6)\n",
        "loaded_checkpoint = torch.load(\"checkpoint.pth\")\n",
        "loaded_epoch = loaded_checkpoint[\"epoch\"]\n",
        "print(loaded_epoch)\n",
        "\n",
        "loaded_model = Model(n_input_features=6)\n",
        "loaded_model.load_state_dict(checkpoint['model_state'])\n",
        "print('loaded_model', loaded_model)\n",
        "\n",
        "loaded_optimizer = torch.optim.SGD(loaded_model.parameters(), lr = 0)\n",
        "loaded_optimizer.load_state_dict(loaded_checkpoint[\"optim_state\"])\n",
        "print(loaded_optimizer.state_dict())"
      ],
      "metadata": {
        "colab": {
          "base_uri": "https://localhost:8080/"
        },
        "id": "W1LgGEpoR6No",
        "outputId": "b247ce52-906a-4f03-8694-56da7ea3ed54"
      },
      "execution_count": 34,
      "outputs": [
        {
          "output_type": "stream",
          "name": "stdout",
          "text": [
            "checkpoint {'epoch': 90, 'model_state': OrderedDict([('linear.weight', tensor([[-0.2098, -0.2088,  0.3807,  0.1653, -0.2415,  0.0568]])), ('linear.bias', tensor([0.0833]))]), 'optim_state': {'state': {}, 'param_groups': [{'lr': 0.01, 'momentum': 0, 'dampening': 0, 'weight_decay': 0, 'nesterov': False, 'maximize': False, 'foreach': None, 'differentiable': False, 'fused': None, 'params': [0, 1]}]}}\n",
            "\n",
            "90\n",
            "loaded_model Model(\n",
            "  (linear): Linear(in_features=6, out_features=1, bias=True)\n",
            ")\n",
            "{'state': {}, 'param_groups': [{'lr': 0.01, 'momentum': 0, 'dampening': 0, 'weight_decay': 0, 'nesterov': False, 'maximize': False, 'foreach': None, 'differentiable': False, 'fused': None, 'params': [0, 1]}]}\n"
          ]
        },
        {
          "output_type": "stream",
          "name": "stderr",
          "text": [
            "<ipython-input-34-2acbcd38b81c>:27: FutureWarning: You are using `torch.load` with `weights_only=False` (the current default value), which uses the default pickle module implicitly. It is possible to construct malicious pickle data which will execute arbitrary code during unpickling (See https://github.com/pytorch/pytorch/blob/main/SECURITY.md#untrusted-models for more details). In a future release, the default value for `weights_only` will be flipped to `True`. This limits the functions that could be executed during unpickling. Arbitrary objects will no longer be allowed to be loaded via this mode unless they are explicitly allowlisted by the user via `torch.serialization.add_safe_globals`. We recommend you start setting `weights_only=True` for any use case where you don't have full control of the loaded file. Please open an issue on GitHub for any issues related to this experimental feature.\n",
            "  loaded_checkpoint = torch.load(\"checkpoint.pth\")\n"
          ]
        }
      ]
    },
    {
      "cell_type": "code",
      "source": [],
      "metadata": {
        "id": "grvhjq6nUV_9"
      },
      "execution_count": null,
      "outputs": []
    }
  ]
}